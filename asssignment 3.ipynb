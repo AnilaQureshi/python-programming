{
 "cells": [
  {
   "cell_type": "code",
   "execution_count": 7,
   "metadata": {},
   "outputs": [
    {
     "name": "stdout",
     "output_type": "stream",
     "text": [
      "Enter First number: 3\n",
      "Enter Second number 3\n",
      "Sum of  3 and 3 is : 6\n",
      "subtract of  3 and 3 is : 0\n",
      "Product of  3 and 3 is : 9\n",
      "Division of  3 and 3 is : 1.0\n",
      "Exponent of  3 and 3 is : 27\n"
     ]
    }
   ],
   "source": [
    "num1 = int(input('Enter First number: '))\n",
    "num2 = int(input('Enter Second number '))\n",
    "\n",
    "add = num1 + num2\n",
    "sub = num1 - num2\n",
    "mul = num1 * num2\n",
    "div = num1 / num2\n",
    "power = num1 ** num2\n",
    "\n",
    "\n",
    "print('Sum of ', num1, 'and', num2, 'is :', add)\n",
    "print('subtract of ', num1, 'and', num2, 'is :', sub)\n",
    "print('Product of ', num1, 'and', num2, 'is :', mul)\n",
    "print('Division of ', num1, 'and', num2, 'is :',div)\n",
    "print('Exponent of ', num1, 'and', num2, 'is :', power)\n"
   ]
  },
  {
   "cell_type": "code",
   "execution_count": 2,
   "metadata": {},
   "outputs": [
    {
     "name": "stdout",
     "output_type": "stream",
     "text": [
      "Numeric value is found = 12 At Index=0\n",
      "Numeric value is found = 13 At Index=5\n"
     ]
    }
   ],
   "source": [
    "arr = [12,\"asf\",\"qwe\",\"power\",\"lol\",13]\n",
    "for aa in arr:\n",
    "    if type(aa) == int or type(aa) == float:\n",
    "        print(f\"Numeric value is found = {aa} At Index={arr.index(aa)}\")\n"
   ]
  },
  {
   "cell_type": "code",
   "execution_count": 3,
   "metadata": {},
   "outputs": [
    {
     "name": "stdout",
     "output_type": "stream",
     "text": [
      "{'firstName': 'Anila', 'lastName': 'Qureshi'}\n",
      "{'firstName': 'Anila', 'lastName': 'Qureshi', 'mid': 'lol'}\n"
     ]
    }
   ],
   "source": [
    "dtio = {\"firstName\":\"Anila\", \"lastName\":\"Qureshi\"}\n",
    "print(dtio)\n",
    "\n",
    "dtio.update({\"mid\":\"lol\"})\n",
    "print(dtio)"
   ]
  },
  {
   "cell_type": "code",
   "execution_count": 4,
   "metadata": {},
   "outputs": [
    {
     "name": "stdout",
     "output_type": "stream",
     "text": [
      "sum ::  176\n"
     ]
    }
   ],
   "source": [
    "def sumdic(dtio):\n",
    "        sum = 0\n",
    "        for i in dtio.values():\n",
    "            sum = sum + i\n",
    "        return sum\n",
    "\n",
    "ndtio = {0:12 , 1:41, 2:123 }\n",
    "\n",
    "print(\"sum :: \",sumdic(ndtio))\n",
    "\n"
   ]
  },
  {
   "cell_type": "code",
   "execution_count": 5,
   "metadata": {},
   "outputs": [
    {
     "name": "stdout",
     "output_type": "stream",
     "text": [
      "duplicate value is found  ccc\n",
      "duplicate value is found  1\n",
      "['ggg', 'ccc', 'abc', 'dd', 1]\n"
     ]
    }
   ],
   "source": [
    "lst1 = [\"ggg\",\"ccc\", \"abc\",\"dd\",\"ccc\",1,1]\n",
    "def dup(lst):\n",
    "    lst1dup = []\n",
    "    for val in lst:\n",
    "        if val not in lst1dup:\n",
    "            lst1dup.append(val)\n",
    "        elif val in lst1dup:\n",
    "            print(\"duplicate value is found \",val)\n",
    "    return lst1dup\n",
    "\n",
    "print(dup(lst1))\n"
   ]
  },
  {
   "cell_type": "code",
   "execution_count": 6,
   "metadata": {},
   "outputs": [
    {
     "name": "stdout",
     "output_type": "stream",
     "text": [
      "Key is present in the dictionary\n",
      "Key is not present in the dictionary\n"
     ]
    }
   ],
   "source": [
    "dic = {\n",
    "    1: 30,\n",
    "    2: 50,\n",
    "    3: 20,\n",
    "    4: 50,\n",
    "    5: 90,\n",
    "    6: 60}\n",
    "def is_key_present(x):\n",
    "    if x in dic:\n",
    "        print('Key is present in the dictionary')\n",
    "    else: \n",
    "        print('Key is not present in the dictionary')\n",
    "            \n",
    "            \n",
    "is_key_present(6)\n",
    "is_key_present(99)"
   ]
  },
  {
   "cell_type": "code",
   "execution_count": null,
   "metadata": {},
   "outputs": [],
   "source": []
  }
 ],
 "metadata": {
  "kernelspec": {
   "display_name": "Python 3",
   "language": "python",
   "name": "python3"
  },
  "language_info": {
   "codemirror_mode": {
    "name": "ipython",
    "version": 3
   },
   "file_extension": ".py",
   "mimetype": "text/x-python",
   "name": "python",
   "nbconvert_exporter": "python",
   "pygments_lexer": "ipython3",
   "version": "3.7.4"
  }
 },
 "nbformat": 4,
 "nbformat_minor": 2
}
