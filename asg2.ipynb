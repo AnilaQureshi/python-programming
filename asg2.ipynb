{
 "cells": [
  {
   "cell_type": "code",
   "execution_count": 2,
   "metadata": {},
   "outputs": [
    {
     "name": "stdout",
     "output_type": "stream",
     "text": [
      "Enter marks of the first  subject34\n",
      "Enter marks of the second  subject56\n",
      "Enter marks of the third  subject78\n",
      "Enter marks of the fourth subject90\n",
      "Enter marks of the fifth  subject89\n",
      "total number: 347\n",
      "total percentage: 69.39999999999999\n",
      "Grade: B\n"
     ]
    }
   ],
   "source": [
    "subj1 =int(input(\"Enter marks of the first  subject\"))\n",
    "subj2 =int(input(\"Enter marks of the second  subject\"))\n",
    "subj3 =int(input(\"Enter marks of the third  subject\"))\n",
    "subj4 =int(input(\"Enter marks of the fourth subject\"))\n",
    "subj5 =int(input(\"Enter marks of the fifth  subject\"))\n",
    "total = subj1+subj2+subj3+subj4+subj5\n",
    "avg    =  (total/500)  *100\n",
    "print (\"total number:\",total )\n",
    "print (\"total percentage:\",avg )\n",
    "if (avg >=90) :\n",
    "        print(\"Grade:A++\")\n",
    "elif (avg >= 80 and avg < 90):\n",
    "        print(\"Grade:A+\")\n",
    "elif (avg >=70 and avg < 80):\n",
    "        print(\"Grade  A\")\n",
    "elif (avg >=60 and avg < 70):\n",
    "        print(\"Grade: B\")\n",
    "elif (avg >=50 and avg < 60):\n",
    "        print(\"Grade: C\")\n",
    "else: \n",
    "        print(\"Grade: F\")\n",
    "    \n",
    "    \n",
    "    \n",
    "    "
   ]
  },
  {
   "cell_type": "code",
   "execution_count": 3,
   "metadata": {},
   "outputs": [
    {
     "name": "stdout",
     "output_type": "stream",
     "text": [
      "Enter the number :55\n",
      "number is odd\n"
     ]
    }
   ],
   "source": [
    "number = int(input(\"Enter the number :\"))\n",
    "if (number % 2 == 0) :\n",
    "    print (\"number is even\")\n",
    "else :\n",
    "    print(\"number is odd\")"
   ]
  },
  {
   "cell_type": "code",
   "execution_count": 4,
   "metadata": {},
   "outputs": [
    {
     "name": "stdout",
     "output_type": "stream",
     "text": [
      "the length of list is : 9\n"
     ]
    }
   ],
   "source": [
    "number= [12,13,14,15,16,17,18,19,20]\n",
    "print(\"the length of list is :\" , len(number))"
   ]
  },
  {
   "cell_type": "code",
   "execution_count": 5,
   "metadata": {},
   "outputs": [
    {
     "name": "stdout",
     "output_type": "stream",
     "text": [
      "the maximum number  of list is : 144\n"
     ]
    }
   ],
   "source": [
    "number=[12,13,14,15,16,17,18,19,20]\n",
    "print(\"the maximum number  of list is :\" , sum(number))\n"
   ]
  },
  {
   "cell_type": "code",
   "execution_count": 6,
   "metadata": {},
   "outputs": [
    {
     "name": "stdout",
     "output_type": "stream",
     "text": [
      "the maximum number  of list is : 20\n"
     ]
    }
   ],
   "source": [
    "number= [12,13,14,15,16,17,18,19,20]\n",
    "print(\"the maximum number  of list is :\" , max(number))"
   ]
  },
  {
   "cell_type": "code",
   "execution_count": 7,
   "metadata": {},
   "outputs": [
    {
     "name": "stdout",
     "output_type": "stream",
     "text": [
      "1\n",
      "1\n",
      "2\n",
      "3\n"
     ]
    }
   ],
   "source": [
    "a=[1,1,2,3,5,8,13,21,34,55,89]\n",
    "for number in a :\n",
    "    if number <5 :\n",
    "        print (number)"
   ]
  },
  {
   "cell_type": "code",
   "execution_count": null,
   "metadata": {},
   "outputs": [],
   "source": []
  }
 ],
 "metadata": {
  "kernelspec": {
   "display_name": "Python 3",
   "language": "python",
   "name": "python3"
  },
  "language_info": {
   "codemirror_mode": {
    "name": "ipython",
    "version": 3
   },
   "file_extension": ".py",
   "mimetype": "text/x-python",
   "name": "python",
   "nbconvert_exporter": "python",
   "pygments_lexer": "ipython3",
   "version": "3.7.4"
  }
 },
 "nbformat": 4,
 "nbformat_minor": 2
}
